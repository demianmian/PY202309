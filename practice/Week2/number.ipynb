{
 "cells": [
  {
   "cell_type": "code",
   "execution_count": 4,
   "id": "b1951387",
   "metadata": {},
   "outputs": [
    {
     "name": "stdout",
     "output_type": "stream",
     "text": [
      "What do you call a bear with no teeth?\n",
      "A gummmy bear!\n"
     ]
    }
   ],
   "source": [
    "#1.\n",
    "print(\"What do you call a bear with no teeth?\\nA gummmy bear!\")\n",
    "# Spacing the Line for in one line of code.\n"
   ]
  },
  {
   "cell_type": "code",
   "execution_count": 2,
   "id": "a522ed15",
   "metadata": {},
   "outputs": [
    {
     "name": "stdout",
     "output_type": "stream",
     "text": [
      "Enter your name:Misoo\n",
      "Hello Misoo\n"
     ]
    }
   ],
   "source": [
    "#2.\n",
    "name = input(\"Enter your name:\") #input \n",
    "print(\"Hello\" ,name)"
   ]
  },
  {
   "cell_type": "code",
   "execution_count": 6,
   "id": "447bea3d",
   "metadata": {},
   "outputs": [
    {
     "name": "stdout",
     "output_type": "stream",
     "text": [
      "Enter your name:Misoo\n",
      "Enter your last name:Kim\n",
      "Hello MisooKim\n"
     ]
    }
   ],
   "source": [
    "#3.\n",
    "name1 = input(\"Enter your name:\") # input \n",
    "lastname = input(\"Enter your last name:\")\n",
    "\n",
    "print (\"Hello\",name1+lastname)"
   ]
  },
  {
   "cell_type": "code",
   "execution_count": 8,
   "id": "25839ac7",
   "metadata": {},
   "outputs": [
    {
     "name": "stdout",
     "output_type": "stream",
     "text": [
      "Enter the first number:10\n",
      "Enter the second number:30\n",
      "10 + 30 = 40\n"
     ]
    }
   ],
   "source": [
    "#4.\n",
    "f_number = int(input(\"Enter the first number:\")) \n",
    "s_number = int(input(\"Enter the second number:\"))\n",
    "c = f_number + s_number\n",
    "print(f_number,\"+\",s_number,\"=\",c)"
   ]
  },
  {
   "cell_type": "code",
   "execution_count": 9,
   "id": "6262247a",
   "metadata": {},
   "outputs": [
    {
     "name": "stdout",
     "output_type": "stream",
     "text": [
      "Enter the first number:10\n",
      "Enter the second number:20\n",
      "Enter the third number:30\n",
      "610\n"
     ]
    }
   ],
   "source": [
    "#5\n",
    "f_number = int(input(\"Enter the first number:\"))\n",
    "s_number = int(input(\"Enter the second number:\"))\n",
    "t_number = int(input(\"Enter the third number:\"))\n",
    "a = f_number + s_number*t_number\n",
    "print(f_number + s_number*t_number)"
   ]
  },
  {
   "cell_type": "code",
   "execution_count": null,
   "id": "ef8f4fcd",
   "metadata": {},
   "outputs": [],
   "source": []
  }
 ],
 "metadata": {
  "kernelspec": {
   "display_name": "Python 3 (ipykernel)",
   "language": "python",
   "name": "python3"
  },
  "language_info": {
   "codemirror_mode": {
    "name": "ipython",
    "version": 3
   },
   "file_extension": ".py",
   "mimetype": "text/x-python",
   "name": "python",
   "nbconvert_exporter": "python",
   "pygments_lexer": "ipython3",
   "version": "3.9.13"
  }
 },
 "nbformat": 4,
 "nbformat_minor": 5
}
