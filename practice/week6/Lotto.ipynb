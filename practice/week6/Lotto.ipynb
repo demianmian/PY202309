{
 "cells": [
  {
   "cell_type": "code",
   "execution_count": 1,
   "id": "2f1df437",
   "metadata": {},
   "outputs": [
    {
     "name": "stdout",
     "output_type": "stream",
     "text": [
      "** Start Lotto **\n",
      "Number: 4 10 16 22 28 42 "
     ]
    }
   ],
   "source": [
    "import random\n",
    "\n",
    "#get_number 함수 \n",
    "def get_number():\n",
    "    return random.randrange(1,46) #숫자1~45중 랜덤 호출\n",
    "\n",
    "lotto = []\n",
    "num = 0\n",
    "print(\"** Start Lotto **\")\n",
    "\n",
    "while True:\n",
    "    num = get_number() #get_number 함수 호출\n",
    "    \n",
    "    if lotto.count(num) == 0:\n",
    "        lotto.append(num)\n",
    "    \n",
    "    if len(lotto) >= 6: #숫자 6개 되면 끝\n",
    "        break\n",
    "        \n",
    "print(\"Number:\", end = ' ')\n",
    "lotto.sort()\n",
    "#랜덤 숫자 나열 \n",
    "for number in lotto:\n",
    "    print(number, end=' ')"
   ]
  },
  {
   "cell_type": "code",
   "execution_count": null,
   "id": "8effac19",
   "metadata": {},
   "outputs": [],
   "source": []
  }
 ],
 "metadata": {
  "kernelspec": {
   "display_name": "Python 3 (ipykernel)",
   "language": "python",
   "name": "python3"
  },
  "language_info": {
   "codemirror_mode": {
    "name": "ipython",
    "version": 3
   },
   "file_extension": ".py",
   "mimetype": "text/x-python",
   "name": "python",
   "nbconvert_exporter": "python",
   "pygments_lexer": "ipython3",
   "version": "3.9.13"
  }
 },
 "nbformat": 4,
 "nbformat_minor": 5
}
