{
 "cells": [
  {
   "cell_type": "code",
   "execution_count": 1,
   "id": "8f5dd6fb",
   "metadata": {},
   "outputs": [
    {
     "name": "stdout",
     "output_type": "stream",
     "text": [
      "1.current list = [30, 10, 20, 50, 40]\n",
      "2. append(60)= [30, 10, 20, 50, 40, 60]\n",
      "3. item after pop() =  60\n",
      "4. list after pop()= [30, 10, 20, 50, 40]\n"
     ]
    }
   ],
   "source": [
    "#초기 리스트 생성\n",
    "sample_list = [30,10,20,50,40]\n",
    "print(\"1.current list =\", sample_list) #sample_list 출력\n",
    "\n",
    "sample_list.append(60) #sample_list에 60 추가\n",
    "print(\"2. append(60)=\", sample_list) # 60 추가 후 리스트 출력\n",
    "#리스트 마지막 요소를 꺼내고 그 값을 출력\n",
    "print(\"3. item after pop() = \", sample_list.pop()) # 마지막에 추가한 60을 리스트에서 제거하고 제거한것 출력\n",
    "print(\"4. list after pop()=\" , sample_list) # 제거되었는지 확인 \n"
   ]
  },
  {
   "cell_type": "code",
   "execution_count": 2,
   "id": "7550b477",
   "metadata": {},
   "outputs": [
    {
     "name": "stdout",
     "output_type": "stream",
     "text": [
      "5. after sort()= [10, 20, 30, 40, 50]\n",
      "6.after reverse()= [50, 40, 30, 20, 10]\n",
      "7. index for 20= 3\n"
     ]
    }
   ],
   "source": [
    "sample_list.sort() #숫자 정렬\n",
    "print(\"5. after sort()=\", sample_list)# 정렬 후 리스트 출력 \n",
    "\n",
    "sample_list.reverse() #정렬된 숫자 뒤집기\n",
    "print(\"6.after reverse()=\", sample_list)\n",
    "\n",
    "#리스트에서 특정 값 20의 인덱스 찾기\n",
    "print(\"7. index for 20=\", sample_list.index(20)) #20의 인덱스 번호 출력\n"
   ]
  },
  {
   "cell_type": "code",
   "execution_count": 4,
   "id": "f82efd1d",
   "metadata": {},
   "outputs": [
    {
     "name": "stdout",
     "output_type": "stream",
     "text": [
      "8.after insert(2, 222)= [50, 40, 222, 222, 30, 20, 10]\n",
      "9.after remove(2, 222)= [50, 40, 222, 30, 20, 10]\n"
     ]
    }
   ],
   "source": [
    "sample_list.insert(2, 222) # 2번째 인덱스에 222 삽입\n",
    "print(\"8.after insert(2, 222)=\",sample_list)\n",
    "\n",
    "sample_list.remove(222) #  222값을 리스트에서 제거(만약 여러개라면 가장 앞에위치한것 제거)\n",
    "print(\"9.after remove(2, 222)=\",sample_list)\n"
   ]
  },
  {
   "cell_type": "code",
   "execution_count": 5,
   "id": "59d9431f",
   "metadata": {},
   "outputs": [
    {
     "name": "stdout",
     "output_type": "stream",
     "text": [
      "10.after extend([100,200,100])= [50, 40, 222, 30, 20, 10, 100, 200, 100]\n",
      "11. the number of 100 = 2\n"
     ]
    }
   ],
   "source": [
    "new_list =[100,200,100] # 새로운 리스트 선언\n",
    "sample_list.extend(new_list) #기존 리스트에 new_list추가 \n",
    "print(\"10.after extend([100,200,100])=\", sample_list)#리스트 확장 \n",
    "\n",
    "print(\"11. the number of 100 =\", sample_list.count(100)) # 100이 리스트에 몇개인지 출력"
   ]
  },
  {
   "cell_type": "code",
   "execution_count": 6,
   "id": "21aa5b2e",
   "metadata": {},
   "outputs": [
    {
     "name": "stdout",
     "output_type": "stream",
     "text": [
      "turtle bye!\n"
     ]
    }
   ],
   "source": [
    "import turtle\n",
    "t=turtle.Turtle()\n",
    "\n",
    "#원을 그리기 위한 반지름값 리스트\n",
    "radius_list= [100,200,50] \n",
    "move=20\n",
    "\n",
    "t.shape(\"turtle\")# 터틀 모양 설정\n",
    "\n",
    "# 반지름 리스트의 각 값에 대해 원을 그리고 지정된 거리만큼 이동\n",
    "for i in range(0, len(radius_list)):\n",
    "    radius = radius_list[i]\n",
    "    t.circle(radius)\n",
    "    t.fd(move)\n",
    "    \n",
    "turtle.done()#터틀 그리기 완료\n",
    "try:\n",
    "    turtle.bye()\n",
    "except:\n",
    "    print(\"turtle bye!\")"
   ]
  },
  {
   "cell_type": "code",
   "execution_count": 1,
   "id": "43e333e3",
   "metadata": {},
   "outputs": [
    {
     "name": "stdout",
     "output_type": "stream",
     "text": [
      "Enter 1st number:50\n",
      "Enter 2nd number:40\n",
      "Enter 3rd number:90\n",
      "Enter 4th number:10\n",
      "Enter 5th number:30\n",
      "max: 90\n",
      "min: 10\n",
      "average: 44.0\n"
     ]
    }
   ],
   "source": [
    "#list 1\n",
    "aa = [0,0,0,0,0] # list만들기\n",
    "hap =0\n",
    "# list 숫자 입력\n",
    "aa[0] = int(input(\"Enter 1st number:\"))\n",
    "aa[1] = int(input(\"Enter 2nd number:\"))\n",
    "aa[2] = int(input(\"Enter 3rd number:\"))\n",
    "aa[3] = int(input(\"Enter 4th number:\"))\n",
    "aa[4] = int(input(\"Enter 5th number:\"))\n",
    "#입력 받은 숫자들의 평균 구하기\n",
    "average = (aa[0]+aa[1]+aa[2]+aa[3]+aa[4])/5 \n",
    "\n",
    "# 최댓값,최솟값,평균값 출력\n",
    "print(\"max:\",max(aa))\n",
    "print(\"min:\", min(aa))\n",
    "print(\"average:\",average)"
   ]
  },
  {
   "cell_type": "code",
   "execution_count": 3,
   "id": "e0a62f7e",
   "metadata": {
    "scrolled": false
   },
   "outputs": [
    {
     "name": "stdout",
     "output_type": "stream",
     "text": [
      "What is your favorite singer?Oh My Girl\n",
      "['BTS', 'Black Pink', 'Oh My Girl']\n"
     ]
    }
   ],
   "source": [
    "#list2\n",
    "singer=[\"BTS\",\"Black Pink\"] # singer list 만들기\n",
    "w = input(\"What is your favorite singer?\") #추가할 가수 입력받기\n",
    "singer.append(w) #입력받은 가수 기존 리스트에 추가\n",
    "print(singer)#업뎃된 가수리스트 출력 "
   ]
  },
  {
   "cell_type": "code",
   "execution_count": 1,
   "id": "16740d7c",
   "metadata": {},
   "outputs": [
    {
     "name": "stdout",
     "output_type": "stream",
     "text": [
      "Please enter one of the sport names from above: tennis\n",
      "tennis has index number: 0\n"
     ]
    }
   ],
   "source": [
    "# Tuple 1\n",
    "#스포츠 종류를 담은 튜플\n",
    "sports = ('tennis', 'football', 'baseball', 'basketball', 'golf')\n",
    "s = input(\"Please enter one of the sport names from above: \")\n",
    "\n",
    "#입력받은 스포츠 이름의 튜플 내 인덱스 찾기\n",
    "try:\n",
    "    index_number = sports.index(s)\n",
    "    print(s, \"has index number:\", index_number)#인덱스 번호 출력\n",
    "except ValueError:\n",
    "    print(\"The sport you entered is not in the list.\")#리스트에 없을 경우 메시지 출력.\n",
    "\n"
   ]
  },
  {
   "cell_type": "code",
   "execution_count": null,
   "id": "d3259f61",
   "metadata": {},
   "outputs": [],
   "source": []
  }
 ],
 "metadata": {
  "kernelspec": {
   "display_name": "Python 3 (ipykernel)",
   "language": "python",
   "name": "python3"
  },
  "language_info": {
   "codemirror_mode": {
    "name": "ipython",
    "version": 3
   },
   "file_extension": ".py",
   "mimetype": "text/x-python",
   "name": "python",
   "nbconvert_exporter": "python",
   "pygments_lexer": "ipython3",
   "version": "3.9.13"
  }
 },
 "nbformat": 4,
 "nbformat_minor": 5
}
