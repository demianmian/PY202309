{
 "cells": [
  {
   "cell_type": "code",
   "execution_count": 3,
   "id": "dc1f7c2c",
   "metadata": {},
   "outputs": [
    {
     "name": "stdout",
     "output_type": "stream",
     "text": [
      "turtle bye!\n"
     ]
    }
   ],
   "source": [
    "import turtle\n",
    "\n",
    "screen_width, screen_height =100, 100\n",
    "\n",
    "turtle.title(\"Drawing rainbows circles\")\n",
    "turtle.shape(\"turtle\")\n",
    "turtle.setup(width = screen_width+50, height = screen_height+50)\n",
    "turtle.screensize(screen_width, screen_height)\n",
    "turtle.penup()\n",
    "turtle.goto(0,-screen_height / 2)\n",
    "turtle.pendown()\n",
    "turtle.speed(5)\n",
    "\n",
    "for radius in range(1, 50): # 50까지 터틀 반지름 값에 따라 색깔을 바꿔주는 코드\n",
    "    if radius % 7 ==0:\n",
    "        turtle.pencolor('red')\n",
    "    elif radius % 7 ==1:\n",
    "        turtle.pencolor('orange')\n",
    "    elif radius % 7 ==2:\n",
    "        turtle.pencolor('yellow')\n",
    "    elif radius % 7 == 3:\n",
    "        turtle.pencolor('green')\n",
    "    elif radius % 7 == 4 :\n",
    "        turtle.pencolor('blue')\n",
    "    elif radius % 7 == 5 :\n",
    "        turtle.pencolor('navyblue')\n",
    "    elif radius % 7 == 6 :\n",
    "        turtle.pencolor('purple')\n",
    "    turtle.circle(radius)\n",
    "turtle.done()\n",
    "\n",
    "try:\n",
    "    turtle.bye()\n",
    "except:\n",
    "    print(\"turtle bye!\")"
   ]
  }
 ],
 "metadata": {
  "kernelspec": {
   "display_name": "Python 3 (ipykernel)",
   "language": "python",
   "name": "python3"
  },
  "language_info": {
   "codemirror_mode": {
    "name": "ipython",
    "version": 3
   },
   "file_extension": ".py",
   "mimetype": "text/x-python",
   "name": "python",
   "nbconvert_exporter": "python",
   "pygments_lexer": "ipython3",
   "version": "3.9.13"
  }
 },
 "nbformat": 4,
 "nbformat_minor": 5
}
