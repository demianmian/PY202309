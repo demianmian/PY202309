{
 "cells": [
  {
   "cell_type": "code",
   "execution_count": 3,
   "id": "dc1f7c2c",
   "metadata": {},
   "outputs": [
    {
     "name": "stdout",
     "output_type": "stream",
     "text": [
      "turtle bye!\n"
     ]
    }
   ],
   "source": [
    "#turtle 모듈 임포트\n",
    "import turtle\n",
    "\n",
    "screen_width, screen_height =100, 100\n",
    "\n",
    "turtle.title(\"Drawing rainbows circles\")\n",
    "turtle.shape(\"turtle\")#터틀 모양 설정\n",
    "turtle.setup(width = screen_width+50, height = screen_height+50) #터틀 그래픽 창의 크기 설정\n",
    "turtle.screensize(screen_width, screen_height) #스크린의 크기를 설정\n",
    "turtle.penup() #터틀 이동전 펜을 들어 올리기.\n",
    "turtle.goto(0,-screen_height / 2)#터틀을 화면의 중앙 하단으로 이동시키기.\n",
    "turtle.pendown()\n",
    "turtle.speed(5)#터틀 속도 설정\n",
    "\n",
    "#1~49까지 반복하면서 원을 그리기\n",
    "for radius in range(1, 50): \n",
    "    #radius를 7로 나눈 나머지에 따라 펜의 색상을 결정\n",
    "    if radius % 7 ==0:\n",
    "        turtle.pencolor('red')\n",
    "    elif radius % 7 ==1:\n",
    "        turtle.pencolor('orange')\n",
    "    elif radius % 7 ==2:\n",
    "        turtle.pencolor('yellow')\n",
    "    elif radius % 7 == 3:\n",
    "        turtle.pencolor('green')\n",
    "    elif radius % 7 == 4 :\n",
    "        turtle.pencolor('blue')\n",
    "    elif radius % 7 == 5 :\n",
    "        turtle.pencolor('navyblue')\n",
    "    elif radius % 7 == 6 :\n",
    "        turtle.pencolor('purple')\n",
    "    turtle.circle(radius)\n",
    "turtle.done()\n",
    "#터틀 창 닫으려고 시도할때\n",
    "try:\n",
    "    turtle.bye()\n",
    "except:\n",
    "    print(\"turtle bye!\")"
   ]
  }
 ],
 "metadata": {
  "kernelspec": {
   "display_name": "Python 3 (ipykernel)",
   "language": "python",
   "name": "python3"
  },
  "language_info": {
   "codemirror_mode": {
    "name": "ipython",
    "version": 3
   },
   "file_extension": ".py",
   "mimetype": "text/x-python",
   "name": "python",
   "nbconvert_exporter": "python",
   "pygments_lexer": "ipython3",
   "version": "3.9.13"
  }
 },
 "nbformat": 4,
 "nbformat_minor": 5
}
