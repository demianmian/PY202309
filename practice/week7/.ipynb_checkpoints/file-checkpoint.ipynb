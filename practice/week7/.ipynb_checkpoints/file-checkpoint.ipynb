{
 "cells": [
  {
   "cell_type": "code",
   "execution_count": 4,
   "id": "948b9b21",
   "metadata": {},
   "outputs": [
    {
     "name": "stdout",
     "output_type": "stream",
     "text": [
      "1.암호화, 2. 복호화 중 선택하세요:2\n",
      "입력 파일 이름을 입력하세요:data_enc.txt\n",
      "출력 파일 이름을 입력하세요:data_dec.txt\n",
      "data_enc.txt --> data_dec.txt Finish to transform\n"
     ]
    }
   ],
   "source": [
    "choice = int(input(\"1.암호화, 2. 복호화 중 선택하세요:\"))\n",
    "in_filename = input(\"입력 파일 이름을 입력하세요:\")\n",
    "out_filename = input(\"출력 파일 이름을 입력하세요:\")\n",
    "\n",
    "token_jump = 0 #토큰 값 초기화\n",
    "\n",
    "if choice == 1:\n",
    "    token_jump = 100 #암호화를 위한 토큰값설정\n",
    "elif choice == 2:\n",
    "    token_jump = -100 #복호화를 위한 토큰값 설정 \n",
    "    \n",
    "# 입력 파일을 읽기 모드로 열고 출력 파일을 쓰기 모드로 열기\n",
    "in_fp = open(in_filename,\"r\", encoding=\"utf8\")\n",
    "out_fp = open(out_filename, \"w\" , encoding=\"utf8\")\n",
    "\n",
    "in_lines = in_fp.readlines()\n",
    "\n",
    "# 각 라인에 대해 암호화 또는 복호화 작업 수행\n",
    "for in_line in in_lines:\n",
    "    out_str = \"\"\n",
    "    for i in range(0, len(in_line)):\n",
    "        ch = in_line[i]\n",
    "        ch_num = ord(ch)\n",
    "        ch_num = ch_num + token_jump\n",
    "        ch2 = chr(ch_num)\n",
    "        out_str = out_str + ch2\n",
    "    \n",
    "    out_fp.write(out_str)\n",
    "    \n",
    "out_fp.close()\n",
    "in_fp.close()\n",
    "print(\"%s --> %s Finish to transform\" %(in_filename, out_filename))\n",
    "    "
   ]
  },
  {
   "cell_type": "code",
   "execution_count": null,
   "id": "e2f26758",
   "metadata": {},
   "outputs": [],
   "source": []
  }
 ],
 "metadata": {
  "kernelspec": {
   "display_name": "Python 3 (ipykernel)",
   "language": "python",
   "name": "python3"
  },
  "language_info": {
   "codemirror_mode": {
    "name": "ipython",
    "version": 3
   },
   "file_extension": ".py",
   "mimetype": "text/x-python",
   "name": "python",
   "nbconvert_exporter": "python",
   "pygments_lexer": "ipython3",
   "version": "3.9.13"
  }
 },
 "nbformat": 4,
 "nbformat_minor": 5
}
