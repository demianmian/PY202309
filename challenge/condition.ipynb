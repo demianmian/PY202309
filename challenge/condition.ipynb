{
 "cells": [
  {
   "cell_type": "code",
   "execution_count": 8,
   "id": "450f17fb",
   "metadata": {},
   "outputs": [
    {
     "name": "stdout",
     "output_type": "stream",
     "text": [
      "Is it raining?y\n",
      "Is it windy?y\n",
      "It is too windy for an umbrella\n"
     ]
    }
   ],
   "source": [
    "rain = input(\"Is it raining?\") # rain 값 입력받기\n",
    "wind = input(\"Is it windy?\") #wind 값 입력받기 \n",
    "\n",
    "if rain == 'y':\n",
    "    if wind == 'y': #rain도 참 wind 도 참일때\n",
    "        print(\"It is too windy for an umbrella\")\n",
    "    elif wind =='n':#rain은 참 wind 은 거짓일때\n",
    "        print(\"Take an umbrella\")\n",
    "    else : #rain은 참 wind 는 참,거짓말고 다른값을 입력받았을때\n",
    "        print(\"Incorrect Input\")\n",
    "elif rain =='n': \n",
    "    if wind =='y': #rain은 거짓 wind는 참일때\n",
    "        print(\"Please take a coat\")\n",
    "    elif wind =='n':#rain은 거짓 wind도 거짓일때\n",
    "        print(\"Have a nice day\")\n",
    "    else :         #rain은 거짓 wind는 참,거짓말고 다른값을 입력받았을때\n",
    "        print(\"Incorrect Input\")\n",
    "else : #rain 에 y,n말고 다른값을 입력받았을때 \n",
    "    print(\"Incorrect Input\")"
   ]
  }
 ],
 "metadata": {
  "kernelspec": {
   "display_name": "Python 3 (ipykernel)",
   "language": "python",
   "name": "python3"
  },
  "language_info": {
   "codemirror_mode": {
    "name": "ipython",
    "version": 3
   },
   "file_extension": ".py",
   "mimetype": "text/x-python",
   "name": "python",
   "nbconvert_exporter": "python",
   "pygments_lexer": "ipython3",
   "version": "3.9.13"
  }
 },
 "nbformat": 4,
 "nbformat_minor": 5
}
