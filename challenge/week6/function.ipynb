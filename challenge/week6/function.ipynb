{
 "cells": [
  {
   "cell_type": "code",
   "execution_count": 10,
   "id": "5b138e1b",
   "metadata": {},
   "outputs": [],
   "source": [
    "import random\n",
    "\n",
    "def get_number():\n",
    "    return random.randrange(1, 46) #1에서 45 사이의 숫자 랜덤 반환\n",
    "\n",
    "def set_lotto_numbers():\n",
    "    lotto =[]\n",
    "    \n",
    "    while True:\n",
    "        num = get_number() # get_number 함수를 호출해서 랜덤 번호 얻기\n",
    "        \n",
    "        if lotto.count(num) == 0: \n",
    "            lotto.append(num)\n",
    "        if len(lotto) >= 6: # 6개 이상되면 \n",
    "            break # 루프 종료\n",
    "            \n",
    "    lotto.sort() #로또 번호 정렬\n",
    "    return lotto # 번호 목록 반환\n",
    "    \n",
    "def match_numbers(user_inputs, lotto_numbers):\n",
    "    same_numbers = len(set(user_inputs) & set(lotto_numbers)) #사용자 입력과 로또번호중 공통 번호 개수 계산\n",
    "    return same_numbers\n",
    "    \n",
    "# 공통개수에 따라 등수 설정 함수  \n",
    "def check_prize(same_numbers): \n",
    "    if (same_numbers == 6):\n",
    "        print(\"1등\")\n",
    "    elif(same_numbers ==5):\n",
    "        print(\"2등\")\n",
    "    elif(same_numbers == 4):\n",
    "        print(\"3등\")\n",
    "    elif(same_numbers ==3):\n",
    "        print(\"4등\")\n",
    "    else:\n",
    "        print(\":(\")\n",
    "    \n",
    "        "
   ]
  },
  {
   "cell_type": "code",
   "execution_count": 11,
   "id": "8cecc5e8",
   "metadata": {},
   "outputs": [
    {
     "name": "stdout",
     "output_type": "stream",
     "text": [
      "** Start Lotto **\n",
      "1) Set the lotto numbers\n",
      "2) Set the user inputs\n",
      "Enter 1-number:5\n",
      "Enter 2-number:6\n",
      "Enter 3-number:7\n",
      "Enter 4-number:8\n",
      "Enter 5-number:9\n",
      "Enter 6-number:1\n",
      "3) Match the numbers\n",
      "4) Check the prize\n",
      ":(\n",
      "5) Sort the lists\n",
      "=== Summary ===\n",
      "Lotto numbers: 6 19 30 39 42 43\n",
      "User numbers: [1, 5, 6, 7, 8, 9]\n"
     ]
    }
   ],
   "source": [
    "num = 0\n",
    "print(\"** Start Lotto **\")\n",
    "print(\"1) Set the lotto numbers\")\n",
    "lotto_numbers = set_lotto_numbers()\n",
    "\n",
    "print(\"2) Set the user inputs\")\n",
    "user_inputs = []\n",
    "while True:\n",
    "    num = int(input(\"Enter %d-number:\"%(len(user_inputs)+1)))\n",
    "    if num < 1 or num > 46:# 입력된 숫자가 1에서 46 사이의 범위에 속하지 않는 경우\n",
    "        print(\"No valid number\")\n",
    "        continue\n",
    "    if user_inputs.count(num) == 0:# 이미 입력된 숫자 목록에 없는 경우\n",
    "        user_inputs.append(num)\n",
    "    else:# 이미 입력된 숫자 목록에 있는 경우\n",
    "        print(\"Same number\")\n",
    "        continue\n",
    "    if len(user_inputs) >= 6:\n",
    "        break\n",
    "        \n",
    "print(\"3) Match the numbers\")\n",
    "same_numbers = match_numbers(user_inputs, lotto_numbers)\n",
    "    \n",
    "print(\"4) Check the prize\")\n",
    "check_prize(same_numbers)\n",
    "    \n",
    "print(\"5) Sort the lists\")\n",
    "lotto_numbers.sort() # 로또 숫자 목록을 정렬\n",
    "user_inputs.sort()# 사용자 입력 목록을 정렬\n",
    "    \n",
    "print(\"=== Summary ===\")\n",
    "print(\"Lotto numbers:\" , *lotto_numbers)\n",
    "print(\"User numbers:\", user_inputs)\n",
    "\n",
    "\n"
   ]
  },
  {
   "cell_type": "code",
   "execution_count": null,
   "id": "7e50c608",
   "metadata": {},
   "outputs": [],
   "source": []
  }
 ],
 "metadata": {
  "kernelspec": {
   "display_name": "Python 3 (ipykernel)",
   "language": "python",
   "name": "python3"
  },
  "language_info": {
   "codemirror_mode": {
    "name": "ipython",
    "version": 3
   },
   "file_extension": ".py",
   "mimetype": "text/x-python",
   "name": "python",
   "nbconvert_exporter": "python",
   "pygments_lexer": "ipython3",
   "version": "3.9.13"
  }
 },
 "nbformat": 4,
 "nbformat_minor": 5
}
