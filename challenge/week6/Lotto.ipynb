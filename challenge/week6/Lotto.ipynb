{
 "cells": [
  {
   "cell_type": "code",
   "execution_count": 10,
   "id": "33f97a79",
   "metadata": {},
   "outputs": [],
   "source": [
    "import random\n",
    "\n",
    "def get_number():\n",
    "    return random.randrange(1, 46)\n",
    "\n",
    "def set_lotto_numbers():\n",
    "    lotto =[]\n",
    "    \n",
    "    while True:\n",
    "        num = get_number()\n",
    "        \n",
    "        if lotto.count(num) == 0:\n",
    "            lotto.append(num)\n",
    "        if len(lotto) >= 6:\n",
    "            break\n",
    "            \n",
    "    lotto.sort()\n",
    "    return lotto\n",
    "    \n",
    "def match_numbers(user_inputs, lotto_numbers):\n",
    "    same_numbers = len(set(user_inputs) & set(lotto_numbers))\n",
    "    return same_numbers\n",
    "    \n",
    "    \n",
    "def check_prize(same_numbers):\n",
    "    if (same_numbers == 6):\n",
    "        print(\"1등\")\n",
    "    elif(same_numbers ==5):\n",
    "        print(\"2등\")\n",
    "    elif(same_numbers == 4):\n",
    "        print(\"3등\")\n",
    "    elif(same_numbers ==3):\n",
    "        print(\"4등\")\n",
    "    else:\n",
    "        print(\":(\")\n",
    "    \n",
    "        "
   ]
  },
  {
   "cell_type": "code",
   "execution_count": 11,
   "id": "977e5bdf",
   "metadata": {},
   "outputs": [
    {
     "name": "stdout",
     "output_type": "stream",
     "text": [
      "** Start Lotto **\n",
      "1) Set the lotto numbers\n",
      "2) Set the user inputs\n",
      "Enter 1-number:5\n",
      "Enter 2-number:6\n",
      "Enter 3-number:7\n",
      "Enter 4-number:8\n",
      "Enter 5-number:9\n",
      "Enter 6-number:1\n",
      "3) Match the numbers\n",
      "4) Check the prize\n",
      ":(\n",
      "5) Sort the lists\n",
      "=== Summary ===\n",
      "Lotto numbers: 6 19 30 39 42 43\n",
      "User numbers: [1, 5, 6, 7, 8, 9]\n"
     ]
    }
   ],
   "source": [
    "num = 0\n",
    "print(\"** Start Lotto **\")\n",
    "print(\"1) Set the lotto numbers\")\n",
    "lotto_numbers = set_lotto_numbers()\n",
    "\n",
    "print(\"2) Set the user inputs\")\n",
    "user_inputs = []\n",
    "while True:\n",
    "    num = int(input(\"Enter %d-number:\"%(len(user_inputs)+1)))\n",
    "    if num < 1 or num > 46:\n",
    "        print(\"No valid number\")\n",
    "        continue\n",
    "    if user_inputs.count(num) == 0:\n",
    "        user_inputs.append(num)\n",
    "    else:\n",
    "        print(\"Same number\")\n",
    "        continue\n",
    "    if len(user_inputs) >= 6:\n",
    "        break\n",
    "        \n",
    "print(\"3) Match the numbers\")\n",
    "same_numbers = match_numbers(user_inputs, lotto_numbers)\n",
    "    \n",
    "print(\"4) Check the prize\")\n",
    "check_prize(same_numbers)\n",
    "    \n",
    "print(\"5) Sort the lists\")\n",
    "lotto_numbers.sort()\n",
    "user_inputs.sort()\n",
    "    \n",
    "print(\"=== Summary ===\")\n",
    "print(\"Lotto numbers:\" , *lotto_numbers)\n",
    "print(\"User numbers:\", user_inputs)\n",
    "\n",
    "\n"
   ]
  },
  {
   "cell_type": "code",
   "execution_count": null,
   "id": "e94991f0",
   "metadata": {},
   "outputs": [],
   "source": []
  }
 ],
 "metadata": {
  "kernelspec": {
   "display_name": "Python 3 (ipykernel)",
   "language": "python",
   "name": "python3"
  },
  "language_info": {
   "codemirror_mode": {
    "name": "ipython",
    "version": 3
   },
   "file_extension": ".py",
   "mimetype": "text/x-python",
   "name": "python",
   "nbconvert_exporter": "python",
   "pygments_lexer": "ipython3",
   "version": "3.9.13"
  }
 },
 "nbformat": 4,
 "nbformat_minor": 5
}
