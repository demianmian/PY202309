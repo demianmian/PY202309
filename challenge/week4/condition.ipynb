{
 "cells": [
  {
   "cell_type": "code",
   "execution_count": 8,
   "id": "b036cd32",
   "metadata": {},
   "outputs": [
    {
     "name": "stdout",
     "output_type": "stream",
     "text": [
      "Is it raining?y\n",
      "Is it windy?y\n",
      "It is too windy for an umbrella\n"
     ]
    }
   ],
   "source": [
    "rain = input(\"Is it raining?\")\n",
    "wind = input(\"Is it windy?\")\n",
    "\n",
    "if rain == 'y':\n",
    "    if wind == 'y':\n",
    "        print(\"It is too windy for an umbrella\")\n",
    "    elif wind =='n':\n",
    "        print(\"Take an umbrella\")\n",
    "    else :\n",
    "        print(\"Incorrect Input\")\n",
    "elif rain =='n':\n",
    "    if wind =='y':\n",
    "        print(\"Please take a coat\")\n",
    "    elif wind =='n':\n",
    "        print(\"Have a nice day\")\n",
    "    else :\n",
    "        print(\"Incorrect Input\")\n",
    "else :\n",
    "    print(\"Incorrect Input\")"
   ]
  },
  {
   "cell_type": "code",
   "execution_count": null,
   "id": "6a360290",
   "metadata": {},
   "outputs": [],
   "source": []
  }
 ],
 "metadata": {
  "kernelspec": {
   "display_name": "Python 3 (ipykernel)",
   "language": "python",
   "name": "python3"
  },
  "language_info": {
   "codemirror_mode": {
    "name": "ipython",
    "version": 3
   },
   "file_extension": ".py",
   "mimetype": "text/x-python",
   "name": "python",
   "nbconvert_exporter": "python",
   "pygments_lexer": "ipython3",
   "version": "3.9.13"
  }
 },
 "nbformat": 4,
 "nbformat_minor": 5
}
