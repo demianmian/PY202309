{
 "cells": [
  {
   "cell_type": "code",
   "execution_count": 8,
   "id": "b036cd32",
   "metadata": {},
   "outputs": [
    {
     "name": "stdout",
     "output_type": "stream",
     "text": [
      "Is it raining?y\n",
      "Is it windy?y\n",
      "It is too windy for an umbrella\n"
     ]
    }
   ],
   "source": [
    "#사용자에게 비가 오고있는지 묻는 입력받기.\n",
    "rain = input(\"Is it raining?\")\n",
    "#사용자에게 바람이 부는지 묻는 입력받기\n",
    "wind = input(\"Is it windy?\")\n",
    "\n",
    "#비가온다고 대답할대\n",
    "if rain == 'y':\n",
    "    #비도 오고 바람도 불때\n",
    "    if wind == 'y':\n",
    "        print(\"It is too windy for an umbrella\")\n",
    "    #비는 오고 바람이 불지않을때\n",
    "    elif wind =='n':\n",
    "        print(\"Take an umbrella\")\n",
    "    #잘못된 입력일때\n",
    "    else :\n",
    "        print(\"Incorrect Input\")\n",
    "#비가오지않는다고 대답할때\n",
    "elif rain =='n':\n",
    "    #비 x, 바람 o\n",
    "    if wind =='y':\n",
    "        print(\"Please take a coat\")\n",
    "    #비 x, 바람 x\n",
    "    elif wind =='n':\n",
    "        print(\"Have a nice day\")\n",
    "    #그 이외의 대답받을때\n",
    "    else :\n",
    "        print(\"Incorrect Input\")\n",
    "#잘못된 입력시\n",
    "else :\n",
    "    print(\"Incorrect Input\")"
   ]
  },
  {
   "cell_type": "code",
   "execution_count": null,
   "id": "6a360290",
   "metadata": {},
   "outputs": [],
   "source": []
  }
 ],
 "metadata": {
  "kernelspec": {
   "display_name": "Python 3 (ipykernel)",
   "language": "python",
   "name": "python3"
  },
  "language_info": {
   "codemirror_mode": {
    "name": "ipython",
    "version": 3
   },
   "file_extension": ".py",
   "mimetype": "text/x-python",
   "name": "python",
   "nbconvert_exporter": "python",
   "pygments_lexer": "ipython3",
   "version": "3.9.13"
  }
 },
 "nbformat": 4,
 "nbformat_minor": 5
}
