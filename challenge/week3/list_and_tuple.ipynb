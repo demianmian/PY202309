{
 "cells": [
  {
   "cell_type": "code",
   "execution_count": 1,
   "id": "15f03e0a",
   "metadata": {},
   "outputs": [
    {
     "name": "stdout",
     "output_type": "stream",
     "text": [
      "Enter 1st number:50\n",
      "Enter 2nd number:40\n",
      "Enter 3rd number:90\n",
      "Enter 4th number:10\n",
      "Enter 5th number:30\n",
      "max: 90\n",
      "min: 10\n",
      "average: 44.0\n"
     ]
    }
   ],
   "source": [
    "#list 1\n",
    "aa = [0,0,0,0,0] # list만들기\n",
    "hap =0\n",
    "# list 숫자 입력\n",
    "aa[0] = int(input(\"Enter 1st number:\"))\n",
    "aa[1] = int(input(\"Enter 2nd number:\"))\n",
    "aa[2] = int(input(\"Enter 3rd number:\"))\n",
    "aa[3] = int(input(\"Enter 4th number:\"))\n",
    "aa[4] = int(input(\"Enter 5th number:\"))\n",
    "average = (aa[0]+aa[1]+aa[2]+aa[3]+aa[4])/5 # 평균구하기.\n",
    "\n",
    "print(\"max:\",max(aa))\n",
    "print(\"min:\", min(aa))\n",
    "print(\"average:\",average)"
   ]
  },
  {
   "cell_type": "code",
   "execution_count": 2,
   "id": "0b6d3e9d",
   "metadata": {},
   "outputs": [
    {
     "name": "stdout",
     "output_type": "stream",
     "text": [
      "What is your favorite singer?Oh My Girl\n",
      "['BTS', 'Black Pink', 'Oh My Girl']\n"
     ]
    }
   ],
   "source": [
    "#list2\n",
    "singer=[\"BTS\",\"Black Pink\"] # singer list 만들기\n",
    "w = input(\"What is your favorite singer?\") #추가할 가수 입력받기\n",
    "singer.append(w) #입력받은 가수 기존 리스트에 추가\n",
    "print(singer)"
   ]
  },
  {
   "cell_type": "code",
   "execution_count": 3,
   "id": "32cdd933",
   "metadata": {},
   "outputs": [
    {
     "name": "stdout",
     "output_type": "stream",
     "text": [
      "Please enter one of the sport name from above:golf\n"
     ]
    },
    {
     "ename": "TypeError",
     "evalue": "tuple indices must be integers or slices, not str",
     "output_type": "error",
     "traceback": [
      "\u001b[1;31m---------------------------------------------------------------------------\u001b[0m",
      "\u001b[1;31mTypeError\u001b[0m                                 Traceback (most recent call last)",
      "\u001b[1;32m~\\AppData\\Local\\Temp\\ipykernel_3088\\2287859040.py\u001b[0m in \u001b[0;36m<module>\u001b[1;34m\u001b[0m\n\u001b[0;32m      2\u001b[0m \u001b[0msports\u001b[0m \u001b[1;33m=\u001b[0m \u001b[1;33m(\u001b[0m\u001b[1;34m'tennis'\u001b[0m\u001b[1;33m,\u001b[0m\u001b[1;34m'football'\u001b[0m\u001b[1;33m,\u001b[0m\u001b[1;34m'baseball'\u001b[0m\u001b[1;33m,\u001b[0m\u001b[1;34m'basketball'\u001b[0m\u001b[1;33m,\u001b[0m\u001b[1;34m'golf'\u001b[0m\u001b[1;33m)\u001b[0m\u001b[1;33m\u001b[0m\u001b[1;33m\u001b[0m\u001b[0m\n\u001b[0;32m      3\u001b[0m \u001b[0ms\u001b[0m \u001b[1;33m=\u001b[0m \u001b[0minput\u001b[0m\u001b[1;33m(\u001b[0m\u001b[1;34m\"Please enter one of the sport name from above:\"\u001b[0m\u001b[1;33m)\u001b[0m\u001b[1;33m\u001b[0m\u001b[1;33m\u001b[0m\u001b[0m\n\u001b[1;32m----> 4\u001b[1;33m \u001b[0mprint\u001b[0m\u001b[1;33m(\u001b[0m\u001b[0ms\u001b[0m\u001b[1;33m,\u001b[0m\u001b[1;34m\"has index number:\"\u001b[0m\u001b[1;33m,\u001b[0m\u001b[0msports\u001b[0m\u001b[1;33m[\u001b[0m\u001b[0ms\u001b[0m\u001b[1;33m]\u001b[0m\u001b[1;33m)\u001b[0m\u001b[1;33m\u001b[0m\u001b[1;33m\u001b[0m\u001b[0m\n\u001b[0m\u001b[0;32m      5\u001b[0m \u001b[1;33m\u001b[0m\u001b[0m\n\u001b[0;32m      6\u001b[0m \u001b[0md\u001b[0m \u001b[1;33m=\u001b[0m \u001b[0minput\u001b[0m\u001b[1;33m(\u001b[0m\u001b[1;34m\"Enter a number between 0 and 4:\"\u001b[0m\u001b[1;33m)\u001b[0m\u001b[1;33m\u001b[0m\u001b[1;33m\u001b[0m\u001b[0m\n",
      "\u001b[1;31mTypeError\u001b[0m: tuple indices must be integers or slices, not str"
     ]
    }
   ],
   "source": [
    "# Tuple 1\n",
    "sports = ('tennis','football','baseball','basketball','golf')\n",
    "s = input(\"Please enter one of the sport name from above:\")\n",
    "print(s,\"has index number:\",sports[s])\n",
    "\n",
    "d = input(\"Enter a number between 0 and 4:\")\n"
   ]
  },
  {
   "cell_type": "code",
   "execution_count": null,
   "id": "835a244d",
   "metadata": {},
   "outputs": [],
   "source": []
  }
 ],
 "metadata": {
  "kernelspec": {
   "display_name": "Python 3 (ipykernel)",
   "language": "python",
   "name": "python3"
  },
  "language_info": {
   "codemirror_mode": {
    "name": "ipython",
    "version": 3
   },
   "file_extension": ".py",
   "mimetype": "text/x-python",
   "name": "python",
   "nbconvert_exporter": "python",
   "pygments_lexer": "ipython3",
   "version": "3.9.13"
  }
 },
 "nbformat": 4,
 "nbformat_minor": 5
}
