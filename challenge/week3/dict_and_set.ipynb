{
 "cells": [
  {
   "cell_type": "code",
   "execution_count": 2,
   "id": "7b6b25da",
   "metadata": {},
   "outputs": [
    {
     "name": "stdout",
     "output_type": "stream",
     "text": [
      "Enter English number ranging from 1 to 5:one\n",
      "one is 일\n"
     ]
    }
   ],
   "source": [
    "#English to Korean number converter\n",
    "var_name = {'one':'일','two':'이','three':'삼','four':'사','five':'오'} #dictionary 정의\n",
    "answer = input(\"Enter English number ranging from 1 to 5:\") #영어숫자 입력받기\n",
    "print(answer,\"is\" ,var_name.get(answer)) #변환 출력\n"
   ]
  },
  {
   "cell_type": "code",
   "execution_count": 14,
   "id": "a6c50980",
   "metadata": {},
   "outputs": [
    {
     "name": "stdout",
     "output_type": "stream",
     "text": [
      "Name: Moving / average: 4.0\n",
      "Name: Mask Girl / average: 3.6666666666666665\n",
      "Name: Oppenheimer / average: 3.3333333333333335\n"
     ]
    }
   ],
   "source": [
    "#Movie Scorer\n",
    "#dictionary정의\n",
    "ratings ={\"Moving\":{\"Misoo\":4 , \"Kwon\":3,\"Soo\":5},\n",
    "         \"Mask Girl\":{\"Misoo\":3 ,\"David\":4,\"Soo\":4},\n",
    "         \"Oppenheimer\":{\"Kwon\":3,\"Bob\":3,\"David\":4}}\n",
    "\n",
    "movie_names = list(ratings.keys()) #영화이름들만 리스트로 잡기\n",
    "\n",
    "score_list1=(ratings[movie_names[0]].values())\n",
    "score_list2=(ratings[movie_names[1]].values())\n",
    "score_list3=(ratings[movie_names[2]].values())\n",
    "\n",
    "print(\"Name:\",movie_names[0],\"/ average:\",sum(score_list1)/3)\n",
    "print(\"Name:\",movie_names[1],\"/ average:\",sum(score_list2)/3)\n",
    "print(\"Name:\",movie_names[2],\"/ average:\",sum(score_list3)/3)"
   ]
  },
  {
   "cell_type": "code",
   "execution_count": 22,
   "id": "c53e41ac",
   "metadata": {},
   "outputs": [
    {
     "name": "stdout",
     "output_type": "stream",
     "text": [
      "Enter user1's 1st friend name:철수\n",
      "Enter user1's 2nd friend name:영수\n",
      "Enter user1's 3rd friend name:영희\n",
      "Enter user2's 1st friend name:철희\n",
      "Enter user2's 2nd friend name:영수\n",
      "Enter user2's 3rd friend name:동수\n",
      "All friend: 철희 동수 영수 철수 영희\n"
     ]
    }
   ],
   "source": [
    "#Program1.Friends\n",
    "f1 = set()\n",
    "f2 = set()\n",
    "\n",
    "f1.add(input(\"Enter user1's 1st friend name:\"))\n",
    "f1.add(input(\"Enter user1's 2nd friend name:\"))\n",
    "f1.add(input(\"Enter user1's 3rd friend name:\"))\n",
    "f2.add(input(\"Enter user2's 1st friend name:\"))\n",
    "f2.add(input(\"Enter user2's 2nd friend name:\"))\n",
    "f2.add(input(\"Enter user2's 3rd friend name:\"))\n",
    "\n",
    "print(\"All friend:\", *(f1.union(f2)))"
   ]
  },
  {
   "cell_type": "code",
   "execution_count": null,
   "id": "f6705dc6",
   "metadata": {},
   "outputs": [],
   "source": []
  }
 ],
 "metadata": {
  "kernelspec": {
   "display_name": "Python 3 (ipykernel)",
   "language": "python",
   "name": "python3"
  },
  "language_info": {
   "codemirror_mode": {
    "name": "ipython",
    "version": 3
   },
   "file_extension": ".py",
   "mimetype": "text/x-python",
   "name": "python",
   "nbconvert_exporter": "python",
   "pygments_lexer": "ipython3",
   "version": "3.9.13"
  }
 },
 "nbformat": 4,
 "nbformat_minor": 5
}
