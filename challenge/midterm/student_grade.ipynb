{
 "cells": [
  {
   "cell_type": "code",
   "execution_count": 16,
   "id": "90ed83f1",
   "metadata": {},
   "outputs": [
    {
     "name": "stdout",
     "output_type": "stream",
     "text": [
      "-----학생들의 평균 점수-----\n",
      "실바의 평균 점수는 73.66666666666667 입니다.\n",
      "산토스의 평균 점수는 86.93333333333334 입니다.\n",
      "맥그리거의 평균 점수는 85.7 입니다.\n",
      "알도의 평균 점수는 85.43333333333332 입니다.\n",
      "로우지의 평균 점수는 83.10000000000001 입니다.\n",
      "누네스의 평균 점수는 85.93333333333334 입니다.\n"
     ]
    }
   ],
   "source": [
    "\n",
    "lines = open(\"student.csv\", \"r\", encoding=\"utf8\").readlines()\n",
    "#loadData 함수: 파일의 내용을 읽어와서 학생별 성적을 딕셔너리에 저장\n",
    "def loadData(lines):\n",
    "    student_scores = {}\n",
    "    for line in lines[1:]:  # 헤더는 건너뛰기\n",
    "        name, *scores = line.strip().split(',')\n",
    "        scores = list(map(float, scores)) #성적 실수형으로 변환\n",
    "        student_scores[name] = scores\n",
    "    return student_scores\n",
    "\n",
    "#getAverage 함수 : 주어진 점수리스트의 평균 계산\n",
    "def getAverage(scores):\n",
    "    return sum(scores) / len(scores)\n",
    "\n",
    "# 데이터를 불러옵니다\n",
    "student_scores = loadData(lines)\n",
    "\n",
    "# 평균 점수를 계산하고 저장합니다\n",
    "average_scores = {student: getAverage(scores) for student, scores in student_scores.items()}\n",
    "\n",
    "# 평균 점수를 파일에 씁니다\n",
    "with open(\"average.txt\", \"w\", encoding=\"utf8\") as file:\n",
    "    file.write(\"-----학생들의 평균 점수-----\\n\")\n",
    "    print(\"-----학생들의 평균 점수-----\")\n",
    "    for student, average in average_scores.items():\n",
    "        output_line = f\"{student}의 평균 점수는 {average} 입니다.\\n\"\n",
    "        print(output_line.strip())\n",
    "        file.write(output_line)"
   ]
  },
  {
   "cell_type": "code",
   "execution_count": null,
   "id": "b9ab1d66",
   "metadata": {},
   "outputs": [],
   "source": []
  }
 ],
 "metadata": {
  "kernelspec": {
   "display_name": "Python 3 (ipykernel)",
   "language": "python",
   "name": "python3"
  },
  "language_info": {
   "codemirror_mode": {
    "name": "ipython",
    "version": 3
   },
   "file_extension": ".py",
   "mimetype": "text/x-python",
   "name": "python",
   "nbconvert_exporter": "python",
   "pygments_lexer": "ipython3",
   "version": "3.9.13"
  }
 },
 "nbformat": 4,
 "nbformat_minor": 5
}
